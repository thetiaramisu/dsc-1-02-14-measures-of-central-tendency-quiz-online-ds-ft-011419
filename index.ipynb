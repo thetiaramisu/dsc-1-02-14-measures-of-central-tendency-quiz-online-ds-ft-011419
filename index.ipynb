{
 "cells": [
  {
   "cell_type": "markdown",
   "metadata": {},
   "source": [
    "# Measures of Central Tendency - Quiz\n",
    "\n",
    "## Objectives\n",
    "You will be able to:\n",
    "* Understand and describe the significance of measuring central tendency of continuous data\n",
    "* Understand the formula and intuition behind the mean, median, mode and modal class\n",
    "* Compare mean-median-mode, along with histograms to explain the central tendency of given data"
   ]
  },
  {
   "cell_type": "markdown",
   "metadata": {},
   "source": [
    "**Note, for these exercises, you do not need to write code to answer them - we'll do that later. Just do them by hand or with a calculator to make sure you're comfortable with the process of calculating the answers!**\n",
    "\n",
    "### Exercise 1\n",
    "Calculate the mean, median and mode for this data set: \n",
    "```\n",
    "19, 18, 21, 16, 15, 17, 20, 18\n",
    "```\n",
    "While comparing the results of three measures, comment about this distribution. "
   ]
  },
  {
   "cell_type": "code",
   "execution_count": 44,
   "metadata": {},
   "outputs": [],
   "source": [
    "def mean(numbers):\n",
    "    total=0\n",
    "    for i in numbers:\n",
    "        total+=i\n",
    "    return total/len(numbers)"
   ]
  },
  {
   "cell_type": "code",
   "execution_count": 45,
   "metadata": {},
   "outputs": [],
   "source": [
    "def median(numbers):\n",
    "    order = numbers.sort()\n",
    "    if len(numbers)%2==0:\n",
    "        median = (numbers[int(len(numbers)/2)-1] + numbers[int(len(numbers)/2)])/2\n",
    "    else:\n",
    "        median = numbers[int(len(numbers)/2)-1]\n",
    "    return median"
   ]
  },
  {
   "cell_type": "code",
   "execution_count": 46,
   "metadata": {},
   "outputs": [],
   "source": [
    "def mode(numbers):\n",
    "    amounts={}\n",
    "    for i in numbers:\n",
    "        if str(i) not in amounts:\n",
    "            amounts[str(i)]=1\n",
    "        else:\n",
    "            amounts[str(i)]+=1\n",
    "    for k in amounts.keys():\n",
    "        if amounts[k] == max(amounts.values()):\n",
    "            mode = float(k)\n",
    "    return mode\n"
   ]
  },
  {
   "cell_type": "code",
   "execution_count": 47,
   "metadata": {},
   "outputs": [
    {
     "data": {
      "text/plain": [
       "18.0"
      ]
     },
     "execution_count": 47,
     "metadata": {},
     "output_type": "execute_result"
    }
   ],
   "source": [
    "here=[19, 18, 21, 16, 15, 17, 20, 18]\n",
    "mean(here)"
   ]
  },
  {
   "cell_type": "markdown",
   "metadata": {},
   "source": [
    "### Exercise 2\n",
    "\n",
    "Calculate the mean, median and mode for given distribution and state which of these measures does not describe the \"middle\" of this data set? and why ?\n",
    "```\n",
    "100, 99, 97, 97, 96, 98, 95, 72\n",
    "```"
   ]
  },
  {
   "cell_type": "code",
   "execution_count": 48,
   "metadata": {},
   "outputs": [],
   "source": [
    "now=[100, 99, 97, 97, 96, 98, 95, 72]"
   ]
  },
  {
   "cell_type": "code",
   "execution_count": 49,
   "metadata": {},
   "outputs": [
    {
     "data": {
      "text/plain": [
       "94.25"
      ]
     },
     "execution_count": 49,
     "metadata": {},
     "output_type": "execute_result"
    }
   ],
   "source": [
    "mean(now)"
   ]
  },
  {
   "cell_type": "code",
   "execution_count": 50,
   "metadata": {},
   "outputs": [
    {
     "data": {
      "text/plain": [
       "97.0"
      ]
     },
     "execution_count": 50,
     "metadata": {},
     "output_type": "execute_result"
    }
   ],
   "source": [
    "median(now)"
   ]
  },
  {
   "cell_type": "code",
   "execution_count": 42,
   "metadata": {},
   "outputs": [],
   "source": [
    "def mode(numbers):\n",
    "    amounts={}\n",
    "    for i in numbers:\n",
    "        if str(i) not in amounts:\n",
    "            amounts[str(i)]=1\n",
    "        else:\n",
    "            amounts[str(i)]+=1\n",
    "    for k in amounts.keys():\n",
    "        if amounts[k] == max(amounts.values()):\n",
    "            mode = float(k)\n",
    "    return mode\n"
   ]
  },
  {
   "cell_type": "code",
   "execution_count": 51,
   "metadata": {},
   "outputs": [
    {
     "data": {
      "text/plain": [
       "97.0"
      ]
     },
     "execution_count": 51,
     "metadata": {},
     "output_type": "execute_result"
    }
   ],
   "source": [
    "mode(now)"
   ]
  },
  {
   "cell_type": "markdown",
   "metadata": {},
   "source": [
    "### Exercise 3\n",
    "On the first three days of his bookshop opening, Joe sold 15, 18, and 16 books (He initially hoped that he would sell 17 books every day).  How many books does he need to sell on the next day to have a mean sale of 17?"
   ]
  },
  {
   "cell_type": "code",
   "execution_count": 54,
   "metadata": {},
   "outputs": [
    {
     "data": {
      "text/plain": [
       "19"
      ]
     },
     "execution_count": 54,
     "metadata": {},
     "output_type": "execute_result"
    }
   ],
   "source": [
    "# Your answer here \n",
    "joe=[15,18,16]\n",
    "mean(joe)\n",
    "\n",
    "total=0\n",
    "for i in joe:\n",
    "    total+=i\n",
    "\n",
    "17*4-total"
   ]
  },
  {
   "cell_type": "code",
   "execution_count": 65,
   "metadata": {},
   "outputs": [],
   "source": [
    "boys = {\"0\":10, \"15\":1, \"30\":6, \"45\":9, \"60\":4, \"75\":7, \"90\":5, \"105\":5, \"120\":3}\n",
    "\n",
    "girls = {\"0\":4, \"15\":1, \"30\":4, \"45\":3, \"60\":2, \"75\":2, \"90\":0, \"105\":5, \"120\":4, \"135\":3, \"150\":5, \"165\":1, \"180\":2, \"195\":1, \"210\":1, \"225\":6, \"240\":6}\n",
    "    "
   ]
  },
  {
   "cell_type": "markdown",
   "metadata": {},
   "source": [
    "### Exercise 4\n",
    "The histograms show the amount of time (hours per day) spent on Facebook by 46 middle school girls and 40 middle school boys from a school in San Francisco. A total of 50 boys and 50 girls took the survey, 4 girls and 10 boys did not use Facebook at all. \n",
    "Each is graphed with a bin width of 0.25 hours.\n",
    "\n",
    "![](boys.png)\n",
    "![](girls.png)\n",
    "\n",
    "Looking at these histograms, answer following questions. \n",
    "\n",
    "*Hint: For most parts, you will have to figure out the location of required bins and count the frequencies. *\n",
    "\n",
    "#### How many boys spend more than 1.5 hours/day on Facebook?\n"
   ]
  },
  {
   "cell_type": "code",
   "execution_count": 66,
   "metadata": {},
   "outputs": [
    {
     "data": {
      "text/plain": [
       "8"
      ]
     },
     "execution_count": 66,
     "metadata": {},
     "output_type": "execute_result"
    }
   ],
   "source": [
    "amounts=list(boys.keys())\n",
    "boysover90=0\n",
    "for i in amounts:\n",
    "    if int(i)>90:\n",
    "        boysover90+=boys[i]\n",
    "boysover90"
   ]
  },
  {
   "cell_type": "code",
   "execution_count": 78,
   "metadata": {},
   "outputs": [
    {
     "data": {
      "text/plain": [
       "52.0"
      ]
     },
     "execution_count": 78,
     "metadata": {},
     "output_type": "execute_result"
    }
   ],
   "source": [
    "amounts=list(boys.keys())\n",
    "percunder60=0\n",
    "for i in amounts:\n",
    "    if int(i)<60:\n",
    "        percunder60+=boys[i]\n",
    "percunder60\n",
    "percunder60/50*100"
   ]
  },
  {
   "cell_type": "code",
   "execution_count": 116,
   "metadata": {},
   "outputs": [],
   "source": [
    "def totalnumber(each):\n",
    "    total = 0\n",
    "    for i in list(each.keys()):\n",
    "        total+=each[i]\n",
    "    return total"
   ]
  },
  {
   "cell_type": "code",
   "execution_count": 117,
   "metadata": {},
   "outputs": [
    {
     "data": {
      "text/plain": [
       "50"
      ]
     },
     "execution_count": 117,
     "metadata": {},
     "output_type": "execute_result"
    }
   ],
   "source": [
    "totalnumber(girls)"
   ]
  },
  {
   "cell_type": "markdown",
   "metadata": {},
   "source": [
    "#### Compare the percentage of boys and girls that spend more than zero but less than 1 hour/day on Facebook."
   ]
  },
  {
   "cell_type": "code",
   "execution_count": 122,
   "metadata": {},
   "outputs": [],
   "source": [
    "girlsupto60=0\n",
    "boysupto60=0\n",
    "\n",
    "def percentagespent(each):\n",
    "    these=0\n",
    "    for i in list(each.keys()):\n",
    "        if int(i)<60 and int(i)>0:\n",
    "            these += each[i]\n",
    "    percent=these/totalnumber(each)*100\n",
    "    return percent"
   ]
  },
  {
   "cell_type": "code",
   "execution_count": 123,
   "metadata": {},
   "outputs": [
    {
     "data": {
      "text/plain": [
       "16.0"
      ]
     },
     "execution_count": 123,
     "metadata": {},
     "output_type": "execute_result"
    }
   ],
   "source": [
    "percentagespent(girls)"
   ]
  },
  {
   "cell_type": "code",
   "execution_count": 124,
   "metadata": {},
   "outputs": [
    {
     "data": {
      "text/plain": [
       "32.0"
      ]
     },
     "execution_count": 124,
     "metadata": {},
     "output_type": "execute_result"
    }
   ],
   "source": [
    "percentagespent(boys)"
   ]
  },
  {
   "cell_type": "code",
   "execution_count": 132,
   "metadata": {},
   "outputs": [
    {
     "name": "stdout",
     "output_type": "stream",
     "text": [
      "boys are more likely to spend more than 0 but less than 60 minutes on social media\n"
     ]
    }
   ],
   "source": [
    "if percentagespent(girls)>percentagespent(boys):\n",
    "    print(\"girls are more likely to spend more than 0 but less than 60 minutes on social media\")\n",
    "elif percentagespent(girls)<percentagespent(boys):\n",
    "    print(\"boys are more likely to spend more than 0 but less than 60 minutes on social media\")\n",
    "else:\n",
    "    print(\"they are the same!\")"
   ]
  },
  {
   "cell_type": "markdown",
   "metadata": {},
   "source": [
    "#### Find the bin where the median of the boys' data set lies."
   ]
  },
  {
   "cell_type": "code",
   "execution_count": 138,
   "metadata": {},
   "outputs": [
    {
     "data": {
      "text/plain": [
       "'15'"
      ]
     },
     "execution_count": 138,
     "metadata": {},
     "output_type": "execute_result"
    }
   ],
   "source": [
    "keysinboys = list(boys.keys())\n",
    "for i in list(range(len(boys))):\n",
    "    middle = median(keysinboys)\n",
    "middle"
   ]
  },
  {
   "cell_type": "markdown",
   "metadata": {},
   "source": [
    "#### In terms of Facebook usage times based on given data, what can you conclude about usage habits of boys and girls?"
   ]
  },
  {
   "cell_type": "code",
   "execution_count": 139,
   "metadata": {},
   "outputs": [
    {
     "data": {
      "text/plain": [
       "'Girls spend way more time on social media than boys generally do'"
      ]
     },
     "execution_count": 139,
     "metadata": {},
     "output_type": "execute_result"
    }
   ],
   "source": [
    "\"Girls spend way more time on social media than boys generally do\""
   ]
  }
 ],
 "metadata": {
  "kernelspec": {
   "display_name": "Python 3",
   "language": "python",
   "name": "python3"
  },
  "language_info": {
   "codemirror_mode": {
    "name": "ipython",
    "version": 3
   },
   "file_extension": ".py",
   "mimetype": "text/x-python",
   "name": "python",
   "nbconvert_exporter": "python",
   "pygments_lexer": "ipython3",
   "version": "3.6.6"
  }
 },
 "nbformat": 4,
 "nbformat_minor": 2
}
